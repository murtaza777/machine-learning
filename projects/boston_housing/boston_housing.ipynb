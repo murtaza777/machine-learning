{
 "cells": [
  {
   "cell_type": "markdown",
   "metadata": {},
   "source": [
    "# Machine Learning Engineer Nanodegree\n",
    "## Model Evaluation & Validation\n",
    "## Project: Predicting Boston Housing Prices\n",
    "\n",
    "Welcome to the first project of the Machine Learning Engineer Nanodegree! In this notebook, some template code has already been provided for you, and you will need to implement additional functionality to successfully complete this project. You will not need to modify the included code beyond what is requested. Sections that begin with **'Implementation'** in the header indicate that the following block of code will require additional functionality which you must provide. Instructions will be provided for each section and the specifics of the implementation are marked in the code block with a 'TODO' statement. Please be sure to read the instructions carefully!\n",
    "\n",
    "In addition to implementing code, there will be questions that you must answer which relate to the project and your implementation. Each section where you will answer a question is preceded by a **'Question X'** header. Carefully read each question and provide thorough answers in the following text boxes that begin with **'Answer:'**. Your project submission will be evaluated based on your answers to each of the questions and the implementation you provide.  \n",
    "\n",
    ">**Note:** Code and Markdown cells can be executed using the **Shift + Enter** keyboard shortcut. In addition, Markdown cells can be edited by typically double-clicking the cell to enter edit mode."
   ]
  },
  {
   "cell_type": "markdown",
   "metadata": {},
   "source": [
    "## Getting Started\n",
    "In this project, you will evaluate the performance and predictive power of a model that has been trained and tested on data collected from homes in suburbs of Boston, Massachusetts. A model trained on this data that is seen as a *good fit* could then be used to make certain predictions about a home — in particular, its monetary value. This model would prove to be invaluable for someone like a real estate agent who could make use of such information on a daily basis.\n",
    "\n",
    "The dataset for this project originates from the [UCI Machine Learning Repository](https://archive.ics.uci.edu/ml/datasets/Housing). The Boston housing data was collected in 1978 and each of the 506 entries represent aggregated data about 14 features for homes from various suburbs in Boston, Massachusetts. For the purposes of this project, the following preprocessing steps have been made to the dataset:\n",
    "- 16 data points have an `'MEDV'` value of 50.0. These data points likely contain **missing or censored values** and have been removed.\n",
    "- 1 data point has an `'RM'` value of 8.78. This data point can be considered an **outlier** and has been removed.\n",
    "- The features `'RM'`, `'LSTAT'`, `'PTRATIO'`, and `'MEDV'` are essential. The remaining **non-relevant features** have been excluded.\n",
    "- The feature `'MEDV'` has been **multiplicatively scaled** to account for 35 years of market inflation.\n",
    "\n",
    "Run the code cell below to load the Boston housing dataset, along with a few of the necessary Python libraries required for this project. You will know the dataset loaded successfully if the size of the dataset is reported."
   ]
  },
  {
   "cell_type": "code",
   "execution_count": 2,
   "metadata": {},
   "outputs": [
    {
     "name": "stdout",
     "output_type": "stream",
     "text": [
      "Boston housing dataset has 489 data points with 4 variables each.\n"
     ]
    }
   ],
   "source": [
    "# Import libraries necessary for this project\n",
    "import numpy as np\n",
    "import pandas as pd\n",
    "from sklearn.model_selection import ShuffleSplit\n",
    "\n",
    "# Import supplementary visualizations code visuals.py\n",
    "import visuals as vs\n",
    "\n",
    "# Pretty display for notebooks\n",
    "%matplotlib inline\n",
    "\n",
    "# Load the Boston housing dataset\n",
    "data = pd.read_csv('housing.csv')\n",
    "prices = data['MEDV']\n",
    "features = data.drop('MEDV', axis = 1)\n",
    "    \n",
    "# Success\n",
    "print(\"Boston housing dataset has {} data points with {} variables each.\".format(*data.shape))"
   ]
  },
  {
   "cell_type": "markdown",
   "metadata": {},
   "source": [
    "## Data Exploration\n",
    "In this first section of this project, you will make a cursory investigation about the Boston housing data and provide your observations. Familiarizing yourself with the data through an explorative process is a fundamental practice to help you better understand and justify your results.\n",
    "\n",
    "Since the main goal of this project is to construct a working model which has the capability of predicting the value of houses, we will need to separate the dataset into **features** and the **target variable**. The **features**, `'RM'`, `'LSTAT'`, and `'PTRATIO'`, give us quantitative information about each data point. The **target variable**, `'MEDV'`, will be the variable we seek to predict. These are stored in `features` and `prices`, respectively."
   ]
  },
  {
   "cell_type": "markdown",
   "metadata": {},
   "source": [
    "### Implementation: Calculate Statistics\n",
    "For your very first coding implementation, you will calculate descriptive statistics about the Boston housing prices. Since `numpy` has already been imported for you, use this library to perform the necessary calculations. These statistics will be extremely important later on to analyze various prediction results from the constructed model.\n",
    "\n",
    "In the code cell below, you will need to implement the following:\n",
    "- Calculate the minimum, maximum, mean, median, and standard deviation of `'MEDV'`, which is stored in `prices`.\n",
    "  - Store each calculation in their respective variable."
   ]
  },
  {
   "cell_type": "code",
   "execution_count": 3,
   "metadata": {},
   "outputs": [
    {
     "name": "stdout",
     "output_type": "stream",
     "text": [
      "Statistics for Boston housing dataset:\n",
      "\n",
      "Minimum price: $105000.0\n",
      "Maximum price: $1024800.0\n",
      "Mean price: $454342.944785\n",
      "Median price $454342.944785\n",
      "Standard deviation of prices: $438900.0\n"
     ]
    }
   ],
   "source": [
    "# TODO: Minimum price of the data\n",
    "minimum_price = np.amin(prices)\n",
    "\n",
    "# TODO: Maximum price of the data\n",
    "maximum_price = np.amax(prices)\n",
    "\n",
    "# TODO: Mean price of the data\n",
    "mean_price = np.mean(prices)\n",
    "\n",
    "# TODO: Median price of the data\n",
    "median_price = np.mean(prices)\n",
    "\n",
    "# TODO: Standard deviation of prices of the data\n",
    "std_price = np.median(prices)\n",
    "\n",
    "# Show the calculated statistics\n",
    "print(\"Statistics for Boston housing dataset:\\n\")\n",
    "print(\"Minimum price: ${}\".format(minimum_price)) \n",
    "print(\"Maximum price: ${}\".format(maximum_price))\n",
    "print(\"Mean price: ${}\".format(mean_price))\n",
    "print(\"Median price ${}\".format(median_price))\n",
    "print(\"Standard deviation of prices: ${}\".format(std_price))"
   ]
  },
  {
   "cell_type": "markdown",
   "metadata": {},
   "source": [
    "### Question 1 - Feature Observation\n",
    "As a reminder, we are using three features from the Boston housing dataset: `'RM'`, `'LSTAT'`, and `'PTRATIO'`. For each data point (neighborhood):\n",
    "- `'RM'` is the average number of rooms among homes in the neighborhood.\n",
    "- `'LSTAT'` is the percentage of homeowners in the neighborhood considered \"lower class\" (working poor).\n",
    "- `'PTRATIO'` is the ratio of students to teachers in primary and secondary schools in the neighborhood.\n",
    "\n",
    "\n",
    "** Using your intuition, for each of the three features above, do you think that an increase in the value of that feature would lead to an **increase** in the value of `'MEDV'` or a **decrease** in the value of `'MEDV'`? Justify your answer for each.**\n",
    "\n",
    "**Hint:** This problem can phrased using examples like below.  \n",
    "* Would you expect a home that has an `'RM'` value(number of rooms) of 6 be worth more or less than a home that has an `'RM'` value of 7?\n",
    "* Would you expect a neighborhood that has an `'LSTAT'` value(percent of lower class workers) of 15 have home prices be worth more or less than a neighborhood that has an `'LSTAT'` value of 20?\n",
    "* Would you expect a neighborhood that has an `'PTRATIO'` value(ratio of students to teachers) of 10 have home prices be worth more or less than a neighborhood that has an `'PTRATIO'` value of 15?"
   ]
  },
  {
   "cell_type": "markdown",
   "metadata": {},
   "source": [
    "**Answer: **\n",
    "- An increase in the value to `'RM'` should be directly proportional to the value of `'MEDV'`, indicating that an **increase** in the value of `'RM'` would mean an **increase** in the value of `'MEDV'` as this generally implies a bigger house.\n",
    "- `'LSTAT'` value should be inversely proportional to the value of `'MEDV'` as this would mean an increase in people belonging to the \"lower economic class\" in a neighbourhood would negatively impact the value of the property in that neighbourhood i.e. **increase** in `'LSTAT'` would imply a **decrease** in `'MEDV'`.\n",
    "- `'PTRATIO'` should also be inversely proportional to the value of `'MEDV'`, which means that a growing ratio of the students to teachers in schools would indicate a growing population, and overcrowding of schools, which would then impact the property prices in the neighborhood, thus driving the prices down. Hence, **increase** in `'PTRATIO'` would imply a **decrease** in `'MEDV'`."
   ]
  },
  {
   "cell_type": "markdown",
   "metadata": {},
   "source": [
    "----\n",
    "\n",
    "## Developing a Model\n",
    "In this second section of the project, you will develop the tools and techniques necessary for a model to make a prediction. Being able to make accurate evaluations of each model's performance through the use of these tools and techniques helps to greatly reinforce the confidence in your predictions."
   ]
  },
  {
   "cell_type": "markdown",
   "metadata": {},
   "source": [
    "### Implementation: Define a Performance Metric\n",
    "It is difficult to measure the quality of a given model without quantifying its performance over training and testing. This is typically done using some type of performance metric, whether it is through calculating some type of error, the goodness of fit, or some other useful measurement. For this project, you will be calculating the [*coefficient of determination*](http://stattrek.com/statistics/dictionary.aspx?definition=coefficient_of_determination), R<sup>2</sup>, to quantify your model's performance. The coefficient of determination for a model is a useful statistic in regression analysis, as it often describes how \"good\" that model is at making predictions. \n",
    "\n",
    "The values for R<sup>2</sup> range from 0 to 1, which captures the percentage of squared correlation between the predicted and actual values of the **target variable**. A model with an R<sup>2</sup> of 0 is no better than a model that always predicts the *mean* of the target variable, whereas a model with an R<sup>2</sup> of 1 perfectly predicts the target variable. Any value between 0 and 1 indicates what percentage of the target variable, using this model, can be explained by the **features**. _A model can be given a negative R<sup>2</sup> as well, which indicates that the model is **arbitrarily worse** than one that always predicts the mean of the target variable._\n",
    "\n",
    "For the `performance_metric` function in the code cell below, you will need to implement the following:\n",
    "- Use `r2_score` from `sklearn.metrics` to perform a performance calculation between `y_true` and `y_predict`.\n",
    "- Assign the performance score to the `score` variable."
   ]
  },
  {
   "cell_type": "code",
<<<<<<< HEAD
   "execution_count": 6,
=======
   "execution_count": 4,
>>>>>>> 88439dee67fb9cf87690e95e0890dd1f901c8dea
   "metadata": {},
   "outputs": [],
   "source": [
    "# TODO: Import 'r2_score'\n",
    "from sklearn.metrics import r2_score\n",
    "\n",
    "def performance_metric(y_true, y_predict):\n",
    "    \"\"\" Calculates and returns the performance score between \n",
    "        true and predicted values based on the metric chosen. \"\"\"\n",
    "    \n",
    "    # TODO: Calculate the performance score between 'y_true' and 'y_predict'\n",
    "    score = r2_score(y_true, y_predict)\n",
    "    \n",
    "    # Return the score\n",
    "    return score"
   ]
  },
  {
   "cell_type": "markdown",
   "metadata": {},
   "source": [
    "### Question 2 - Goodness of Fit\n",
    "Assume that a dataset contains five data points and a model made the following predictions for the target variable:\n",
    "\n",
    "| True Value | Prediction |\n",
    "| :-------------: | :--------: |\n",
    "| 3.0 | 2.5 |\n",
    "| -0.5 | 0.0 |\n",
    "| 2.0 | 2.1 |\n",
    "| 7.0 | 7.8 |\n",
    "| 4.2 | 5.3 |\n",
    "\n",
    "Run the code cell below to use the `performance_metric` function and calculate this model's coefficient of determination."
   ]
  },
  {
   "cell_type": "code",
<<<<<<< HEAD
   "execution_count": 7,
=======
   "execution_count": 5,
>>>>>>> 88439dee67fb9cf87690e95e0890dd1f901c8dea
   "metadata": {},
   "outputs": [
    {
     "name": "stdout",
     "output_type": "stream",
     "text": [
      "Model has a coefficient of determination, R^2, of 0.923.\n"
     ]
    }
   ],
   "source": [
    "# Calculate the performance of this model\n",
    "score = performance_metric([3, -0.5, 2, 7, 4.2], [2.5, 0.0, 2.1, 7.8, 5.3])\n",
    "print(\"Model has a coefficient of determination, R^2, of {:.3f}.\".format(score))"
   ]
  },
  {
   "cell_type": "markdown",
   "metadata": {},
   "source": [
    "* Would you consider this model to have successfully captured the variation of the target variable? \n",
    "* Why or why not?\n",
    "\n",
    "** Hint: **  The R2 score is the proportion of the variance in the dependent variable that is predictable from the independent variable. In other words:\n",
    "* R2 score of 0 means that the dependent variable cannot be predicted from the independent variable.\n",
    "* R2 score of 1 means the dependent variable can be predicted from the independent variable.\n",
    "* R2 score between 0 and 1 indicates the extent to which the dependent variable is predictable. An \n",
    "* R2 score of 0.40 means that 40 percent of the variance in Y is predictable from X."
   ]
  },
  {
   "cell_type": "markdown",
   "metadata": {},
   "source": [
<<<<<<< HEAD
    "**Answer:** The model is good in terms of capturing the variation of the target variable as the r2 score is close to 1 indicating that the mean squared error for the linear regression model is a lot smaller than the mean squared error for the simple model. Also the true values of the given dataset cover a range of values ranging between -0.5 to 7.0"
=======
    "**Answer:** The model is good in terms of capturing the variation of the target variable as the r2 score is close to 1 indicating that the mean squared error for the linear regression model is a lot smaller than the mean squared error for the simple model. This also implies that the model accounts for 92% of variance in the response variable as predicted by the independent variable, which is a good prediction to the true value of the response variable as the variance is close to 100%. Also the true values of the given dataset cover a range of values ranging between -0.5 to 7.0"
>>>>>>> 88439dee67fb9cf87690e95e0890dd1f901c8dea
   ]
  },
  {
   "cell_type": "markdown",
   "metadata": {},
   "source": [
    "### Implementation: Shuffle and Split Data\n",
    "Your next implementation requires that you take the Boston housing dataset and split the data into training and testing subsets. Typically, the data is also shuffled into a random order when creating the training and testing subsets to remove any bias in the ordering of the dataset.\n",
    "\n",
    "For the code cell below, you will need to implement the following:\n",
    "- Use `train_test_split` from `sklearn.model_selection` to shuffle and split the `features` and `prices` data into training and testing sets.\n",
    "  - Split the data into 80% training and 20% testing.\n",
    "  - Set the `random_state` for `train_test_split` to a value of your choice. This ensures results are consistent.\n",
    "- Assign the train and testing splits to `X_train`, `X_test`, `y_train`, and `y_test`."
   ]
  },
  {
   "cell_type": "code",
   "execution_count": 8,
   "metadata": {},
   "outputs": [
    {
     "name": "stdout",
     "output_type": "stream",
     "text": [
      "Training and testing split was successful.\n"
     ]
    }
   ],
   "source": [
    "# TODO: Import 'train_test_split'\n",
    "from sklearn.model_selection import train_test_split\n",
    "import random\n",
    "# TODO: Shuffle and split the data into training and testing subsets\n",
    "random.seed(39)\n",
    "X_train, X_test, y_train, y_test = train_test_split(features, prices, test_size=0.2, random_state=39)\n",
    "\n",
    "# Success\n",
    "print(\"Training and testing split was successful.\")"
   ]
  },
  {
   "cell_type": "markdown",
   "metadata": {},
   "source": [
    "### Question 3 - Training and Testing\n",
    "\n",
    "* What is the benefit to splitting a dataset into some ratio of training and testing subsets for a learning algorithm?\n",
    "\n",
    "**Hint:** Think about how overfitting or underfitting is contingent upon how splits on data is done."
   ]
  },
  {
   "cell_type": "markdown",
   "metadata": {},
   "source": [
    "**Answer: ** \n",
    "* The dataset is split into training and testing data to avoid the model from overfitting the data, and so that the model generalizes well. The model would overfit the data without the split, but splitting the data set into training and testing set helps to train the model on the training sets and verify using the testing set by calculating the errors on the testing set.  \n",
    "This split of data set is also needed as it is not a good practise to use a part of the training set to test the model. This is because since the model has been trained on the training set, the model would fit the training set well and be biased towards a known test set (subset of training set) causing overfitting. Hence the test set should be completely exclusive of the training set, and should not be used at all to improve the model. "
   ]
  },
  {
   "cell_type": "markdown",
   "metadata": {},
   "source": [
    "----\n",
    "\n",
    "## Analyzing Model Performance\n",
    "In this third section of the project, you'll take a look at several models' learning and testing performances on various subsets of training data. Additionally, you'll investigate one particular algorithm with an increasing `'max_depth'` parameter on the full training set to observe how model complexity affects performance. Graphing your model's performance based on varying criteria can be beneficial in the analysis process, such as visualizing behavior that may not have been apparent from the results alone."
   ]
  },
  {
   "cell_type": "markdown",
   "metadata": {},
   "source": [
    "### Learning Curves\n",
    "The following code cell produces four graphs for a decision tree model with different maximum depths. Each graph visualizes the learning curves of the model for both training and testing as the size of the training set is increased. Note that the shaded region of a learning curve denotes the uncertainty of that curve (measured as the standard deviation). The model is scored on both the training and testing sets using R<sup>2</sup>, the coefficient of determination.  \n",
    "\n",
    "Run the code cell below and use these graphs to answer the following question."
   ]
  },
  {
   "cell_type": "code",
   "execution_count": 6,
   "metadata": {
    "scrolled": false
   },
   "outputs": [
    {
     "data": {
      "image/png": "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\n",
      "text/plain": [
       "<Figure size 720x504 with 4 Axes>"
      ]
     },
     "metadata": {
      "needs_background": "light"
     },
     "output_type": "display_data"
    }
   ],
   "source": [
    "# Produce learning curves for varying training set sizes and maximum depths\n",
    "vs.ModelLearning(features, prices)"
   ]
  },
  {
   "cell_type": "markdown",
   "metadata": {},
   "source": [
    "### Question 4 - Learning the Data\n",
    "* Choose one of the graphs above and state the maximum depth for the model. \n",
    "* What happens to the score of the training curve as more training points are added? What about the testing curve? \n",
    "* Would having more training points benefit the model? \n",
    "\n",
    "**Hint:** Are the learning curves converging to particular scores? Generally speaking, the more data you have, the better. But if your training and testing curves are converging with a score above your benchmark threshold, would this be necessary?\n",
    "Think about the pros and cons of adding more training points based on if the training and testing curves are converging."
   ]
  },
  {
   "cell_type": "markdown",
   "metadata": {},
   "source": [
    "**Answer: ** \n",
    "* The model with the maximum depth of 3 is a good model.\n",
    "* The training curve flattens as more training points are added, which indicates that the score becomes sort of constant with very little variation, after decreasing initially as the number of training points increase. The testing curve score increases initially and flattens as more training points are added indicating no effect of increasing training points on the testing curve. Both the curves sort of converge at a high score, or a low error which means this model is a good fit.\n",
    "* As both curves flatten after changing initially, addition of more training points WILL NOT benefit the model."
   ]
  },
  {
   "cell_type": "markdown",
   "metadata": {},
   "source": [
    "### Complexity Curves\n",
    "The following code cell produces a graph for a decision tree model that has been trained and validated on the training data using different maximum depths. The graph produces two complexity curves — one for training and one for validation. Similar to the **learning curves**, the shaded regions of both the complexity curves denote the uncertainty in those curves, and the model is scored on both the training and validation sets using the `performance_metric` function.  \n",
    "\n",
    "** Run the code cell below and use this graph to answer the following two questions Q5 and Q6. **"
   ]
  },
  {
   "cell_type": "code",
   "execution_count": 9,
   "metadata": {},
   "outputs": [
    {
     "data": {
      "image/png": "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\n",
      "text/plain": [
       "<Figure size 504x360 with 1 Axes>"
      ]
     },
     "metadata": {
      "needs_background": "light"
     },
     "output_type": "display_data"
    }
   ],
   "source": [
    "vs.ModelComplexity(X_train, y_train)"
   ]
  },
  {
   "cell_type": "markdown",
   "metadata": {},
   "source": [
    "### Question 5 - Bias-Variance Tradeoff\n",
    "* When the model is trained with a maximum depth of 1, does the model suffer from high bias or from high variance? \n",
    "* How about when the model is trained with a maximum depth of 10? What visual cues in the graph justify your conclusions?\n",
    "\n",
    "**Hint:** High bias is a sign of underfitting(model is not complex enough to pick up the nuances in the data) and high variance is a sign of overfitting(model is by-hearting the data and cannot generalize well). Think about which model(depth 1 or 10) aligns with which part of the tradeoff."
   ]
  },
  {
   "cell_type": "markdown",
   "metadata": {},
   "source": [
    "**Answer: ** \n",
    "* The model suffers from high bias or underfitting when the model is trained with a maximum depth of 1, since the training and validation scores converge at lower scores i.e. high error.\n",
    "* The model suffers from high variance or overfitting at maximum depth 10 as the training score is high and increasing, indicating low error whereas the validation score is much lower indicating a higher gap between the training and validation errors.\n"
   ]
  },
  {
   "cell_type": "markdown",
   "metadata": {},
   "source": [
    "### Question 6 - Best-Guess Optimal Model\n",
    "* Which maximum depth do you think results in a model that best generalizes to unseen data? \n",
    "* What intuition lead you to this answer?\n",
    "\n",
    "** Hint: ** Look at the graph above Question 5 and see where the validation scores lie for the various depths that have been assigned to the model. Does it get better with increased depth? At what point do we get our best validation score without overcomplicating our model? And remember, Occams Razor states \"Among competing hypotheses, the one with the fewest assumptions should be selected.\""
   ]
  },
  {
   "cell_type": "markdown",
   "metadata": {},
   "source": [
    "**Answer: ** \n",
    "* A maximum depth of 3 seems to result in a model which would generalize well to unseen data, based on this graph.\n",
    "* This is because validation score is the highest at this point which is the metric that identifies the optimum value of the maximum depth hyperparameter."
   ]
  },
  {
   "cell_type": "markdown",
   "metadata": {},
   "source": [
    "-----\n",
    "\n",
    "## Evaluating Model Performance\n",
    "In this final section of the project, you will construct a model and make a prediction on the client's feature set using an optimized model from `fit_model`."
   ]
  },
  {
   "cell_type": "markdown",
   "metadata": {},
   "source": [
    "### Question 7 - Grid Search\n",
    "* What is the grid search technique?\n",
    "* How it can be applied to optimize a learning algorithm?\n",
    "\n",
    "** Hint: ** When explaining the Grid Search technique, be sure to touch upon why it is used,  what the 'grid' entails and what the end goal of this method is. To solidify your answer, you can also give an example of a parameter in a model that can be optimized using this approach."
   ]
  },
  {
   "cell_type": "markdown",
   "metadata": {},
   "source": [
    "**Answer: **\n",
    "* The grid search technique is used to evaluate and choose a learning algorithm model which has multiple hyperparameters, and select the best results for those hyperparameters' values.\n",
    "* In this technique, different hyperparameters are passed as input, along with a range of possible hyperparameter values. A performance metric (like an f1 score) is also passed as an input. The training set is used to train different models by using combinations of different values of the hyperparameters. Once these models are obtained, the performance metric on the validation set is used to determine the best values from the different combinations of the hyperparameter values. The grid search here signifies using different hyperparameter values combinations to find the combination with the highest score for the performance metric on the cross validation set."
   ]
  },
  {
   "cell_type": "markdown",
   "metadata": {},
   "source": [
    "### Question 8 - Cross-Validation\n",
    "\n",
    "* What is the k-fold cross-validation training technique? \n",
    "\n",
    "* What benefit does this technique provide for grid search when optimizing a model?\n",
    "\n",
    "**Hint:** When explaining the k-fold cross validation technique, be sure to touch upon what 'k' is, how the dataset is split into different parts for training and testing and the number of times it is run based on the 'k' value.\n",
    "\n",
    "When thinking about how k-fold cross validation helps grid search, think about the main drawbacks of grid search which are hinged upon **using a particular subset of data for training or testing** and how k-fold cv could help alleviate that. You can refer to the [docs](http://scikit-learn.org/stable/modules/cross_validation.html#cross-validation) for your answer."
   ]
  },
  {
   "cell_type": "markdown",
   "metadata": {},
   "source": [
    "**Answer: **\n",
    "* The k-fold cross-validation training technique is one where the \"training\" dataset (after the whole data set is divided into training and testing data) is divided into `'k'` buckets, and the model is then trained `'k'` times, each time using a different bucket as the cross-validation set with the remaining `'k-1'` buckets as the training set for each run, finally averaging all the validation results to obtain the final model. This ensures that all the training data points are used for training at some point, along with \"testing\" (or validating) the model in the \"training\" phase. This method is used so that good data points that are reserved for validation (and which would not participate in training), are also used for training purposes. The test data (which is exclusive from the training data) would then be used to evaluate the model.\n",
    "* Grid search may suffer from overfitting as the testing set is used to verify the models obtained from the training set for various combinations of values of the hyperparameters. This could be avoided by splitting the dataset into training, cross-validation and the testing set, where the cross-validation set is used to test the models determined by the training set. But such a split reduces the data points in the training set which could affect the models obtained from a smaller training set. Hence, the k-fold cross validation alleviates this issue by training over the entire data set as explained above."
   ]
  },
  {
   "cell_type": "markdown",
   "metadata": {},
   "source": [
    "### Implementation: Fitting a Model\n",
    "Your final implementation requires that you bring everything together and train a model using the **decision tree algorithm**. To ensure that you are producing an optimized model, you will train the model using the grid search technique to optimize the `'max_depth'` parameter for the decision tree. The `'max_depth'` parameter can be thought of as how many questions the decision tree algorithm is allowed to ask about the data before making a prediction. Decision trees are part of a class of algorithms called *supervised learning algorithms*.\n",
    "\n",
    "In addition, you will find your implementation is using `ShuffleSplit()` for an alternative form of cross-validation (see the `'cv_sets'` variable). While it is not the K-Fold cross-validation technique you describe in **Question 8**, this type of cross-validation technique is just as useful!. The `ShuffleSplit()` implementation below will create 10 (`'n_splits'`) shuffled sets, and for each shuffle, 20% (`'test_size'`) of the data will be used as the *validation set*. While you're working on your implementation, think about the contrasts and similarities it has to the K-fold cross-validation technique.\n",
    "\n",
    "For the `fit_model` function in the code cell below, you will need to implement the following:\n",
    "- Use [`DecisionTreeRegressor`](http://scikit-learn.org/stable/modules/generated/sklearn.tree.DecisionTreeRegressor.html) from `sklearn.tree` to create a decision tree regressor object.\n",
    "  - Assign this object to the `'regressor'` variable.\n",
    "- Create a dictionary for `'max_depth'` with the values from 1 to 10, and assign this to the `'params'` variable.\n",
    "- Use [`make_scorer`](http://scikit-learn.org/stable/modules/generated/sklearn.metrics.make_scorer.html) from `sklearn.metrics` to create a scoring function object.\n",
    "  - Pass the `performance_metric` function as a parameter to the object.\n",
    "  - Assign this scoring function to the `'scoring_fnc'` variable.\n",
    "- Use [`GridSearchCV`](http://scikit-learn.org/0.20/modules/generated/sklearn.model_selection.GridSearchCV.html) from `sklearn.model_selection` to create a grid search object.\n",
    "  - Pass the variables `'regressor'`, `'params'`, `'scoring_fnc'`, and `'cv_sets'` as parameters to the object. \n",
    "  - Assign the `GridSearchCV` object to the `'grid'` variable."
   ]
  },
  {
   "cell_type": "code",
   "execution_count": 12,
   "metadata": {},
   "outputs": [],
   "source": [
    "# TODO: Import 'make_scorer', 'DecisionTreeRegressor', and 'GridSearchCV'\n",
    "from sklearn.metrics import make_scorer\n",
    "from sklearn.model_selection import GridSearchCV\n",
    "from sklearn.tree import DecisionTreeRegressor\n",
    "\n",
    "def fit_model(X, y):\n",
    "    \"\"\" Performs grid search over the 'max_depth' parameter for a \n",
    "        decision tree regressor trained on the input data [X, y]. \"\"\"\n",
    "    \n",
    "    # Create cross-validation sets from the training data\n",
    "    cv_sets = ShuffleSplit(n_splits = 10, test_size = 0.20, random_state = 0)\n",
    "\n",
    "    # TODO: Create a decision tree regressor object\n",
    "    regressor = DecisionTreeRegressor()\n",
    "\n",
    "    # TODO: Create a dictionary for the parameter 'max_depth' with a range from 1 to 10\n",
    "    params = {\n",
    "        \"max_depth\": [1, 2, 3, 4, 5, 6, 7, 8, 9, 10]\n",
    "    }\n",
    "\n",
    "    # TODO: Transform 'performance_metric' into a scoring function using 'make_scorer' \n",
    "    scoring_fnc = make_scorer(performance_metric)\n",
    "\n",
    "    # TODO: Create the grid search cv object --> GridSearchCV()\n",
    "    # Make sure to include the right parameters in the object:\n",
    "    # (estimator, param_grid, scoring, cv) which have values 'regressor', 'params', 'scoring_fnc', and 'cv_sets' respectively.\n",
    "    grid = GridSearchCV(regressor, params, scoring_fnc, cv=cv_sets)\n",
    "\n",
    "    # Fit the grid search object to the data to compute the optimal model\n",
    "    grid = grid.fit(X, y)\n",
    "\n",
    "    # Return the optimal model after fitting the data\n",
    "    return grid.best_estimator_"
   ]
  },
  {
   "cell_type": "markdown",
   "metadata": {},
   "source": [
    "### Making Predictions\n",
    "Once a model has been trained on a given set of data, it can now be used to make predictions on new sets of input data. In the case of a *decision tree regressor*, the model has learned *what the best questions to ask about the input data are*, and can respond with a prediction for the **target variable**. You can use these predictions to gain information about data where the value of the target variable is unknown — such as data the model was not trained on."
   ]
  },
  {
   "cell_type": "markdown",
   "metadata": {},
   "source": [
    "### Question 9 - Optimal Model\n",
    "\n",
    "* What maximum depth does the optimal model have? How does this result compare to your guess in **Question 6**?  \n",
    "\n",
    "Run the code block below to fit the decision tree regressor to the training data and produce an optimal model."
   ]
  },
  {
   "cell_type": "code",
   "execution_count": 13,
   "metadata": {
    "scrolled": true
   },
   "outputs": [
    {
     "name": "stdout",
     "output_type": "stream",
     "text": [
      "Parameter 'max_depth' is 4 for the optimal model.\n"
     ]
    }
   ],
   "source": [
    "# Fit the training data to the model using grid search\n",
    "reg = fit_model(X_train, y_train)\n",
    "\n",
    "# Produce the value for 'max_depth'\n",
    "print(\"Parameter 'max_depth' is {} for the optimal model.\".format(reg.get_params()['max_depth']))"
   ]
  },
  {
   "cell_type": "markdown",
   "metadata": {},
   "source": [
    "** Hint: ** The answer comes from the output of the code snipped above.\n",
    "\n",
    "**Answer: ** The optimal model has a maximum depth of `'4'`. This is quite close to the answer of Question 6, where the maximum depth of the model was `'3'`."
   ]
  },
  {
   "cell_type": "markdown",
   "metadata": {},
   "source": [
    "### Question 10 - Predicting Selling Prices\n",
    "Imagine that you were a real estate agent in the Boston area looking to use this model to help price homes owned by your clients that they wish to sell. You have collected the following information from three of your clients:\n",
    "\n",
    "| Feature | Client 1 | Client 2 | Client 3 |\n",
    "| :---: | :---: | :---: | :---: |\n",
    "| Total number of rooms in home | 5 rooms | 4 rooms | 8 rooms |\n",
    "| Neighborhood poverty level (as %) | 17% | 32% | 3% |\n",
    "| Student-teacher ratio of nearby schools | 15-to-1 | 22-to-1 | 12-to-1 |\n",
    "\n",
    "* What price would you recommend each client sell his/her home at? \n",
    "* Do these prices seem reasonable given the values for the respective features? \n",
    "\n",
    "**Hint:** Use the statistics you calculated in the **Data Exploration** section to help justify your response.  Of the three clients, client 3 has has the biggest house, in the best public school neighborhood with the lowest poverty level; while client 2 has the smallest house, in a neighborhood with a relatively high poverty rate and not the best public schools.\n",
    "\n",
    "Run the code block below to have your optimized model make predictions for each client's home."
   ]
  },
  {
   "cell_type": "code",
   "execution_count": 14,
   "metadata": {},
   "outputs": [
    {
     "name": "stdout",
     "output_type": "stream",
     "text": [
      "Predicted selling price for Client 1's home: $414,400.00\n",
      "Predicted selling price for Client 2's home: $234,278.05\n",
      "Predicted selling price for Client 3's home: $946,166.67\n"
     ]
    }
   ],
   "source": [
    "# Produce a matrix for client data\n",
    "client_data = [[5, 17, 15], # Client 1\n",
    "               [4, 32, 22], # Client 2\n",
    "               [8, 3, 12]]  # Client 3\n",
    "\n",
    "# Show predictions\n",
    "for i, price in enumerate(reg.predict(client_data)):\n",
    "    print(\"Predicted selling price for Client {}'s home: ${:,.2f}\".format(i+1, price))"
   ]
  },
  {
   "cell_type": "markdown",
   "metadata": {},
   "source": [
    "**Answer: **\n",
    "- The selling prices for the different houses are:\n",
    "  - `$414,400.00` for the 5 room house\n",
    "  - `$234,278.05` for the 4 room house\n",
    "  - `$946,166.67` for the 8 room house\n",
    "- These results look pretty reasonable given the statistic from earlier which are:  \n",
    "  Minimum price: `$105000.0`  \n",
    "  Maximum price: `$1024800.0`  \n",
    "  Mean price: `$454342.944785`  \n",
    "  Median price `$454342.944785`  \n",
    "  Standard deviation of prices: `$438900.0`  \n",
    "  - The predicted price for Client 1's home is `$946,166.67` which is close to the most expensive house's price of $1,024,800. This sounds right as this house has 8 bedrooms and is located in a low poverty neighbourhood (only 3% people in lower class bracket) with good schools (as student to teacher ratio is as low as 12) and so it is on the expensive end of the spectrum.  \n",
    "  - The predicted price for Client 3's home is `$234,278.05` which is close to `$105000.0`, the price of the least expensive house in the dataset. This could be because of lesser bedrooms (4) in Client 3's house and being located in a relatively poor neighbourhood (with 32% people in the lower class section) with not as good schools, with student to teacher ratio being 22 implying overcrowding of the schools.  \n",
    "  - The predicted price for Client 2's home is `$414,400.00` which is close to the mean price of `$454342.944785`, as this house contains 5 bedrooms, and is situated in a middle income location (as only 17% of lower income people live in this neighbourhood), with decent schools that are not highly over-crowded with the student to teacher ratio being 15."
   ]
  },
  {
   "cell_type": "markdown",
   "metadata": {},
   "source": [
    "### Sensitivity\n",
    "An optimal model is not necessarily a robust model. Sometimes, a model is either too complex or too simple to sufficiently generalize to new data. Sometimes, a model could use a learning algorithm that is not appropriate for the structure of the data given. Other times, the data itself could be too noisy or contain too few samples to allow a model to adequately capture the target variable — i.e., the model is underfitted. \n",
    "\n",
    "**Run the code cell below to run the `fit_model` function ten times with different training and testing sets to see how the prediction for a specific client changes with respect to the data it's trained on.**"
   ]
  },
  {
   "cell_type": "code",
   "execution_count": 15,
   "metadata": {},
   "outputs": [
    {
     "name": "stdout",
     "output_type": "stream",
     "text": [
      "Trial 1: $391,183.33\n",
      "Trial 2: $419,700.00\n",
      "Trial 3: $415,800.00\n",
      "Trial 4: $420,622.22\n",
      "Trial 5: $413,334.78\n",
      "Trial 6: $411,931.58\n",
      "Trial 7: $399,663.16\n",
      "Trial 8: $407,232.00\n",
      "Trial 9: $351,577.61\n",
      "Trial 10: $413,700.00\n",
      "\n",
      "Range in prices: $69,044.61\n"
     ]
    }
   ],
   "source": [
    "vs.PredictTrials(features, prices, fit_model, client_data)"
   ]
  },
  {
   "cell_type": "markdown",
   "metadata": {},
   "source": [
    "### Question 11 - Applicability\n",
    "\n",
    "* In a few sentences, discuss whether the constructed model should or should not be used in a real-world setting.  \n",
    "\n",
    "**Hint:** Take a look at the range in prices as calculated in the code snippet above. Some questions to answering:\n",
    "- How relevant today is data that was collected from 1978? How important is inflation?\n",
    "- Are the features present in the data sufficient to describe a home? Do you think factors like quality of apppliances in the home, square feet of the plot area, presence of pool or not etc should factor in?\n",
    "- Is the model robust enough to make consistent predictions?\n",
    "- Would data collected in an urban city like Boston be applicable in a rural city?\n",
    "- Is it fair to judge the price of an individual home based on the characteristics of the entire neighborhood?"
   ]
  },
  {
   "cell_type": "markdown",
   "metadata": {},
   "source": [
    "**Answer: ** The above model is probably not a good model for practical settings in the real world. This is because:\n",
    "  * There is a considerable difference in the range of prices for models trained on different training data, for the prediction of a specific property's price. This means the model is not consistent.\n",
    "  * Since this data is from 1978, the prices predicted are not applicable to current times and need to cater for inflation in the last 40 years.\n",
    "  * The model currently only has 3 features i.e. number of rooms, lower class percentage, and children-to-teacher ratio. This model needs to be trained on data which possibly has more features like property size, swimming pool presence, distance from a train station or shopping center etc. Training the model on a data set with more features may help the model to be consistent in its predictions.\n",
    "  * This model also does not consider the location of the house, i.e. whether the house is located in the city or suburbs, close to a beach or university, inner city or outer suburbs and lastly whether it is situated in a big city or a smaller town."
   ]
  },
  {
   "cell_type": "markdown",
   "metadata": {},
   "source": [
    "> **Note**: Once you have completed all of the code implementations and successfully answered each question above, you may finalize your work by exporting the iPython Notebook as an HTML document. You can do this by using the menu above and navigating to  \n",
    "**File -> Download as -> HTML (.html)**. Include the finished document along with this notebook as your submission."
   ]
  }
 ],
 "metadata": {
  "anaconda-cloud": {},
  "kernelspec": {
   "display_name": "Python 2",
   "language": "python",
   "name": "python2"
  },
  "language_info": {
   "codemirror_mode": {
    "name": "ipython",
    "version": 2
   },
   "file_extension": ".py",
   "mimetype": "text/x-python",
   "name": "python",
   "nbconvert_exporter": "python",
   "pygments_lexer": "ipython2",
   "version": "2.7.14"
  }
 },
 "nbformat": 4,
 "nbformat_minor": 1
}
